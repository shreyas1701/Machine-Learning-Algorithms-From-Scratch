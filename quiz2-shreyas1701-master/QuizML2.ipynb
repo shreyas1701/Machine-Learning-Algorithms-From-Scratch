{
 "cells": [
  {
   "cell_type": "code",
   "execution_count": 82,
   "metadata": {
    "collapsed": true
   },
   "outputs": [],
   "source": [
    "import numpy as np\n",
    "import pandas as pd\n",
    "import matplotlib.pyplot as   plt\n",
    "%matplotlib inline"
   ]
  },
  {
   "cell_type": "code",
   "execution_count": 83,
   "metadata": {
    "collapsed": false
   },
   "outputs": [],
   "source": [
    "dataset =pd.read_csv(\"C:/Users/shrey/Downloads/SCLC_study_output_filtered.csv\")"
   ]
  },
  {
   "cell_type": "code",
   "execution_count": 84,
   "metadata": {
    "collapsed": false
   },
   "outputs": [],
   "source": [
    "data1=dataset.drop(dataset.columns[0], axis=1)"
   ]
  },
  {
   "cell_type": "code",
   "execution_count": 85,
   "metadata": {
    "collapsed": false
   },
   "outputs": [],
   "source": [
    "data1.as_matrix()\n",
    "VarT=0.0\n",
    "for each in data1.columns:\n",
    "    col1= data1[each]\n",
    "    VarT= VarT + np.var(col1)"
   ]
  },
  {
   "cell_type": "code",
   "execution_count": 86,
   "metadata": {
    "collapsed": false
   },
   "outputs": [
    {
     "data": {
      "text/plain": [
       "(49, 49)"
      ]
     },
     "execution_count": 86,
     "metadata": {},
     "output_type": "execute_result"
    }
   ],
   "source": [
    "CovMatrix=np.cov(data1.T)\n",
    "CovMatrix.shape"
   ]
  },
  {
   "cell_type": "code",
   "execution_count": 87,
   "metadata": {
    "collapsed": true
   },
   "outputs": [],
   "source": [
    "Val,Vect=np.linalg.eig(CovMatrix)"
   ]
  },
  {
   "cell_type": "code",
   "execution_count": 88,
   "metadata": {
    "collapsed": true
   },
   "outputs": [],
   "source": [
    "sort=Val.argsort()[::-1]\n",
    "Val = Val[sort]\n",
    "Vect =Vect[:, sort]"
   ]
  },
  {
   "cell_type": "code",
   "execution_count": 89,
   "metadata": {
    "collapsed": true
   },
   "outputs": [],
   "source": [
    "Y=np.matmul(data1,Vect)"
   ]
  },
  {
   "cell_type": "code",
   "execution_count": 90,
   "metadata": {
    "collapsed": false
   },
   "outputs": [
    {
     "name": "stdout",
     "output_type": "stream",
     "text": [
      "Covariance between PC1 and PC2 is\n",
      "[[ 0.01859618+0.j  0.00277417+0.j]\n",
      " [ 0.00277417+0.j  0.01739323+0.j]]\n"
     ]
    }
   ],
   "source": [
    "#Covariance Between PC1 and PC2\n",
    "CovpCs=np.cov(Vect[:,0],Vect[:,1])\n",
    "print(\"Covariance between PC1 and PC2 is\")\n",
    "print(CovpCs)"
   ]
  },
  {
   "cell_type": "code",
   "execution_count": 91,
   "metadata": {
    "collapsed": false
   },
   "outputs": [
    {
     "name": "stdout",
     "output_type": "stream",
     "text": [
      "Total variance before PCA\n",
      "3274592567846.942\n",
      "Total variance after PCA\n",
      "(3.35855647984e+12+0j)\n"
     ]
    }
   ],
   "source": [
    "#VAriance before PCA\n",
    "print(\"Total variance before PCA\")\n",
    "print(VarT)\n",
    "#Variance after PCA\n",
    "TotalVarAV=np.sum(Val)\n",
    "print(\"Total variance after PCA\")\n",
    "print(TotalVarAV)"
   ]
  },
  {
   "cell_type": "code",
   "execution_count": 92,
   "metadata": {
    "collapsed": false
   },
   "outputs": [
    {
     "name": "stderr",
     "output_type": "stream",
     "text": [
      "C:\\Users\\shrey\\Anaconda3\\lib\\site-packages\\numpy\\core\\numeric.py:533: ComplexWarning: Casting complex values to real discards the imaginary part\n",
      "  return array(a, dtype, copy=False, order=order, subok=True)\n",
      "C:\\Users\\shrey\\Anaconda3\\lib\\site-packages\\matplotlib\\figure.py:402: UserWarning: matplotlib is currently using a non-GUI backend, so cannot show the figure\n",
      "  \"matplotlib is currently using a non-GUI backend, \"\n"
     ]
    },
    {
     "data": {
      "image/png": "[encoded data removed]",
      "text/plain": [
       "<matplotlib.figure.Figure at 0x214ec0b6978>"
      ]
     },
     "metadata": {},
     "output_type": "display_data"
    }
   ],
   "source": [
    "#Score PLot\n",
    "fig = plt.figure()\n",
    "ax = fig.add_subplot(1,1,1)\n",
    "ax.set_title('scores plot')\n",
    "ax.scatter(Y[0:20,0], Y[0:20,1], color='red')\n",
    "ax.scatter(Y[21:49,0],Y[21:49,1], color='blue')\n",
    "ax.set_xlabel('PC1')\n",
    "ax.set_ylabel('PC2')\n",
    "fig.show()"
   ]
  },
  {
   "cell_type": "code",
   "execution_count": 93,
   "metadata": {
    "collapsed": false,
    "scrolled": true
   },
   "outputs": [
    {
     "name": "stderr",
     "output_type": "stream",
     "text": [
      "C:\\Users\\shrey\\Anaconda3\\lib\\site-packages\\numpy\\core\\numeric.py:533: ComplexWarning: Casting complex values to real discards the imaginary part\n",
      "  return array(a, dtype, copy=False, order=order, subok=True)\n",
      "C:\\Users\\shrey\\Anaconda3\\lib\\site-packages\\matplotlib\\figure.py:402: UserWarning: matplotlib is currently using a non-GUI backend, so cannot show the figure\n",
      "  \"matplotlib is currently using a non-GUI backend, \"\n"
     ]
    },
    {
     "data": {
      "image/png": "[encoded data removed]",
      "text/plain": [
       "<matplotlib.figure.Figure at 0x214ec3b89b0>"
      ]
     },
     "metadata": {},
     "output_type": "display_data"
    }
   ],
   "source": [
    "fig = plt.figure()\n",
    "ax = fig.add_subplot(1,1,1)\n",
    "ax.set_title('loadings plot')\n",
    "ax.scatter(Vect[:,0], Vect[:,1], color='blue')\n",
    "ax.set_xlabel('PC1')\n",
    "ax.set_ylabel('PC2')\n",
    "fig.show()"
   ]
  },
  {
   "cell_type": "code",
   "execution_count": 95,
   "metadata": {
    "collapsed": false
   },
   "outputs": [
    {
     "name": "stdout",
     "output_type": "stream",
     "text": [
      "PC1 explains: (40.06+0j)% variance\n",
      "\n",
      "PC2 explains: (14.91+0j)% variance\n",
      "\n",
      "PC3 explains: (13+0j)% variance\n",
      "\n",
      "PC4 explains: (9.53+0j)% variance\n",
      "\n",
      "The first 4 principal components explain 76.53% of the variance in the data\n"
     ]
    }
   ],
   "source": [
    "percentVarianceExplained = 100 * Val[0] /TotalVarAV\n",
    "print (\"PC1 explains: \" + str(round(percentVarianceExplained, 2)) + '% variance\\n')\n",
    "percentVarianceExplained = 100 * Val[1] /TotalVarAV\n",
    "print (\"PC2 explains: \" + str(round(percentVarianceExplained, 2)) + '% variance\\n')\n",
    "percentVarianceExplained = 100 * Val[2] /TotalVarAV\n",
    "print (\"PC3 explains: \" + str(round(percentVarianceExplained, 2)) + '% variance\\n')\n",
    "percentVarianceExplained = 100 * Val[3] /TotalVarAV\n",
    "print (\"PC4 explains: \" + str(round(percentVarianceExplained, 2)) + '% variance\\n')\n",
    "#percentVarianceExplained = 100 * Val[4] /TotalVarAV\n",
    "#print (\"PC5 explains: \" + str(round(percentVarianceExplained, 2)) + '% variance\\n')\n",
    "print(\"The first 4 principal components explain 76.53% of the variance in the data\")"
   ]
  },
  {
   "cell_type": "markdown",
   "metadata": {},
   "source": [
    "   Second Part- Running PCA on normalized matrix\n",
    "   "
   ]
  },
  {
   "cell_type": "code",
   "execution_count": 96,
   "metadata": {
    "collapsed": false
   },
   "outputs": [
    {
     "name": "stdout",
     "output_type": "stream",
     "text": [
      "Total variance before PCA\n",
      "3274592567846.9414\n",
      "Total variance after PCA\n",
      "(3.35855647984e+12+0j)\n"
     ]
    }
   ],
   "source": [
    "#Normalizeddata\n",
    "columnMean = data1.mean(axis=0)\n",
    "MeanCentrMat= data1-columnMean\n",
    "CovMatrix1=np.cov(MeanCentrMat.T)\n",
    "Val2,Vect2=np.linalg.eig(CovMatrix1)\n",
    "Y2=np.matmul(data1,Vect2)\n",
    "\n",
    "TotVarNorm=0.0\n",
    "for each in MeanCentrMat.columns:\n",
    "    col1= MeanCentrMat[each]\n",
    "    TotVarNorm= TotVarNorm + np.var(col1)\n",
    "    \n",
    "       \n",
    "#Variance after PCA\n",
    "TotalVarNormAV=np.sum(Val2)\n",
    "print(\"Total variance before PCA\")\n",
    "print(TotVarNorm)\n",
    "print(\"Total variance after PCA\")\n",
    "print(TotalVarNormAV)"
   ]
  }
 ],
 "metadata": {
  "kernelspec": {
   "display_name": "Python 3",
   "language": "python",
   "name": "python3"
  },
  "language_info": {
   "codemirror_mode": {
    "name": "ipython",
    "version": 3
   },
   "file_extension": ".py",
   "mimetype": "text/x-python",
   "name": "python",
   "nbconvert_exporter": "python",
   "pygments_lexer": "ipython3",
   "version": "3.6.0"
  }
 },
 "nbformat": 4,
 "nbformat_minor": 2
}
